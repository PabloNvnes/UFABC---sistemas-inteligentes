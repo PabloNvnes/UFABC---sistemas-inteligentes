{
  "cells": [
    {
      "cell_type": "markdown",
      "metadata": {
        "id": "view-in-github",
        "colab_type": "text"
      },
      "source": [
        "<a href=\"https://colab.research.google.com/github/PabloNvnes/UFABC---sistemas-inteligentes/blob/main/Lab_1_Introdu%C3%A7%C3%A3o.ipynb\" target=\"_parent\"><img src=\"https://colab.research.google.com/assets/colab-badge.svg\" alt=\"Open In Colab\"/></a>"
      ]
    },
    {
      "cell_type": "markdown",
      "metadata": {
        "id": "yE4-oPFbHzVJ"
      },
      "source": [
        "# Sistemas Inteligentes\n",
        "\n",
        "## Lab 1 - Introdução\n",
        "\n",
        "* Metodologia de trabalho\n",
        "* Apresentação das ferramentas\n",
        "* Comandos usuais da linguagem Python"
      ]
    },
    {
      "cell_type": "markdown",
      "metadata": {
        "id": "wRPwUOSYHzVK"
      },
      "source": [
        "### Identificação do Aluno"
      ]
    },
    {
      "cell_type": "markdown",
      "metadata": {
        "id": "tgG8qEXyHzVL"
      },
      "source": [
        "#### Nome Completo"
      ]
    },
    {
      "cell_type": "markdown",
      "metadata": {
        "id": "NWNBcQWzHzVM"
      },
      "source": [
        "Pablo Renato Nunes dos Santos"
      ]
    },
    {
      "cell_type": "markdown",
      "metadata": {
        "id": "pxjwwroDHzVN"
      },
      "source": [
        "#### RA"
      ]
    },
    {
      "cell_type": "markdown",
      "metadata": {
        "id": "B7ovlRBIHzVO"
      },
      "source": [
        "11202232225"
      ]
    },
    {
      "cell_type": "markdown",
      "metadata": {
        "id": "ADgFi63qHzVP"
      },
      "source": [
        "## 1. Importando bibliotecas, pacotes e funções"
      ]
    },
    {
      "cell_type": "code",
      "execution_count": 1,
      "metadata": {
        "id": "-IDcWU6AHzVQ"
      },
      "outputs": [],
      "source": [
        "# Biblioteca de álgebra linear\n",
        "import numpy as np\n",
        "\n",
        "# Pacote de funções para plot\n",
        "import matplotlib.pyplot as plt\n",
        "\n",
        "# Função de Mínimos Quadrados ('Least Squares')\n",
        "from scipy.linalg import lstsq"
      ]
    },
    {
      "cell_type": "markdown",
      "metadata": {
        "id": "H6iU7WOgHzVU"
      },
      "source": [
        "<font color='red'>**Exercício:**</font>  importe a função **hamming** do pacote **signal** pertencente à biblioteca **scipy** já apelidando-a como \"ham\"."
      ]
    },
    {
      "cell_type": "code",
      "execution_count": 2,
      "metadata": {
        "id": "FEyZs9KNHzVV"
      },
      "outputs": [],
      "source": [
        "### INSIRA AQUI O CÓDIGO ###\n",
        "from scipy.signal.windows import hamming as ham"
      ]
    },
    {
      "cell_type": "markdown",
      "metadata": {
        "id": "50BMBV0bHzVY"
      },
      "source": [
        "## 2. Tipos de dados"
      ]
    },
    {
      "cell_type": "markdown",
      "metadata": {
        "id": "KGKiKcOUHzVZ"
      },
      "source": [
        "### 2.1. Inteiro"
      ]
    },
    {
      "cell_type": "code",
      "execution_count": 3,
      "metadata": {
        "colab": {
          "base_uri": "https://localhost:8080/"
        },
        "id": "A1Uqg-etHzVa",
        "outputId": "eff49984-f7fa-4eab-ceaa-d9ef28ed806d"
      },
      "outputs": [
        {
          "output_type": "execute_result",
          "data": {
            "text/plain": [
              "int"
            ]
          },
          "metadata": {},
          "execution_count": 3
        }
      ],
      "source": [
        "type(3)"
      ]
    },
    {
      "cell_type": "markdown",
      "metadata": {
        "id": "u6t5oIP3HzVd"
      },
      "source": [
        "### 2.2. Float"
      ]
    },
    {
      "cell_type": "code",
      "execution_count": 4,
      "metadata": {
        "id": "4BiM85XSHzVe",
        "outputId": "b80b3550-d3f7-42eb-840f-e7a0e7fb8fec",
        "colab": {
          "base_uri": "https://localhost:8080/"
        }
      },
      "outputs": [
        {
          "output_type": "execute_result",
          "data": {
            "text/plain": [
              "float"
            ]
          },
          "metadata": {},
          "execution_count": 4
        }
      ],
      "source": [
        "type(3.23213)"
      ]
    },
    {
      "cell_type": "markdown",
      "metadata": {
        "id": "mjxbh0orHzVh"
      },
      "source": [
        "### 2.3. String"
      ]
    },
    {
      "cell_type": "code",
      "execution_count": 5,
      "metadata": {
        "id": "xpHlqcK_HzVi",
        "outputId": "c29d3b0e-8097-46ae-98df-2ac0d8c6cafb",
        "colab": {
          "base_uri": "https://localhost:8080/"
        }
      },
      "outputs": [
        {
          "output_type": "execute_result",
          "data": {
            "text/plain": [
              "str"
            ]
          },
          "metadata": {},
          "execution_count": 5
        }
      ],
      "source": [
        "type('Testing')"
      ]
    },
    {
      "cell_type": "markdown",
      "metadata": {
        "id": "afSjJuSCHzVl"
      },
      "source": [
        "### 2.4. List"
      ]
    },
    {
      "cell_type": "code",
      "execution_count": 6,
      "metadata": {
        "id": "FYY-0vBIHzVn",
        "outputId": "73038b0d-f2f8-49ab-f575-9f315c20e846",
        "colab": {
          "base_uri": "https://localhost:8080/"
        }
      },
      "outputs": [
        {
          "output_type": "execute_result",
          "data": {
            "text/plain": [
              "list"
            ]
          },
          "metadata": {},
          "execution_count": 6
        }
      ],
      "source": [
        "type([1,2,3])"
      ]
    },
    {
      "cell_type": "markdown",
      "metadata": {
        "id": "D6zaF8QQHzVr"
      },
      "source": [
        "### 2.5. Array"
      ]
    },
    {
      "cell_type": "code",
      "execution_count": 7,
      "metadata": {
        "id": "I8FGJyCiHzVs",
        "outputId": "1e310bfa-dc0e-43aa-bd96-f855be7d86d6",
        "colab": {
          "base_uri": "https://localhost:8080/"
        }
      },
      "outputs": [
        {
          "output_type": "execute_result",
          "data": {
            "text/plain": [
              "numpy.ndarray"
            ]
          },
          "metadata": {},
          "execution_count": 7
        }
      ],
      "source": [
        "type(np.array([1,2,3]))"
      ]
    },
    {
      "cell_type": "markdown",
      "metadata": {
        "id": "BCWXsUz-HzVv"
      },
      "source": [
        "<font color='red'>**Exercício:**</font>  Crie uma variável ou estrutura de qualquer tipo, então verifique se ela está, de fato, com o tipo almejado por você no ato da criação."
      ]
    },
    {
      "cell_type": "code",
      "execution_count": 8,
      "metadata": {
        "id": "dbxyST2zHzVw",
        "outputId": "83402395-67dc-4a83-9a0d-a79b20f30dac",
        "colab": {
          "base_uri": "https://localhost:8080/"
        }
      },
      "outputs": [
        {
          "output_type": "execute_result",
          "data": {
            "text/plain": [
              "int"
            ]
          },
          "metadata": {},
          "execution_count": 8
        }
      ],
      "source": [
        "### INSIRA AQUI O CÓDIGO ###\n",
        "d = 1\n",
        "type(d)"
      ]
    },
    {
      "cell_type": "markdown",
      "metadata": {
        "id": "bJxbu_DwHzVz"
      },
      "source": [
        "## 3. Operações básicas"
      ]
    },
    {
      "cell_type": "markdown",
      "metadata": {
        "id": "y2GsTtFsHzV0"
      },
      "source": [
        "### 3.1. Soma"
      ]
    },
    {
      "cell_type": "code",
      "execution_count": 9,
      "metadata": {
        "id": "FHkV3Ve3HzV1",
        "outputId": "3a02cf89-c6d3-4f50-f93c-0122e120c01a",
        "colab": {
          "base_uri": "https://localhost:8080/"
        }
      },
      "outputs": [
        {
          "output_type": "execute_result",
          "data": {
            "text/plain": [
              "14"
            ]
          },
          "metadata": {},
          "execution_count": 9
        }
      ],
      "source": [
        "5 + 9"
      ]
    },
    {
      "cell_type": "markdown",
      "metadata": {
        "id": "cyZf5vCjHzV3"
      },
      "source": [
        "### 3.2. Subtração"
      ]
    },
    {
      "cell_type": "code",
      "execution_count": 10,
      "metadata": {
        "id": "9EDYs1sQHzV4",
        "outputId": "2df9065b-18dd-4247-a844-f04c3b91c013",
        "colab": {
          "base_uri": "https://localhost:8080/"
        }
      },
      "outputs": [
        {
          "output_type": "execute_result",
          "data": {
            "text/plain": [
              "-4"
            ]
          },
          "metadata": {},
          "execution_count": 10
        }
      ],
      "source": [
        "3 - 7"
      ]
    },
    {
      "cell_type": "markdown",
      "metadata": {
        "id": "XmaFQcu-HzV7"
      },
      "source": [
        "### 3.3. Multiplicação"
      ]
    },
    {
      "cell_type": "code",
      "execution_count": 11,
      "metadata": {
        "id": "LNcfpFYmHzV8",
        "outputId": "758615f4-82de-49fe-fab5-f6445c8da986",
        "colab": {
          "base_uri": "https://localhost:8080/"
        }
      },
      "outputs": [
        {
          "output_type": "execute_result",
          "data": {
            "text/plain": [
              "8"
            ]
          },
          "metadata": {},
          "execution_count": 11
        }
      ],
      "source": [
        "2 * 4"
      ]
    },
    {
      "cell_type": "markdown",
      "metadata": {
        "id": "T7iB5Gr3HzV_"
      },
      "source": [
        "### 3.4. Divisão"
      ]
    },
    {
      "cell_type": "code",
      "execution_count": 12,
      "metadata": {
        "id": "Gp8KecSQHzWA",
        "outputId": "9cfec2be-2cb7-4fd5-9272-57ef25b40134",
        "colab": {
          "base_uri": "https://localhost:8080/"
        }
      },
      "outputs": [
        {
          "output_type": "execute_result",
          "data": {
            "text/plain": [
              "5.0"
            ]
          },
          "metadata": {},
          "execution_count": 12
        }
      ],
      "source": [
        "15 / 3"
      ]
    },
    {
      "cell_type": "markdown",
      "metadata": {
        "id": "6JxKtGZiHzWC"
      },
      "source": [
        "<font color='red'>**Exercício:**</font>  efetue algum cálculo envolvendo todas as operações básicas; tudo em uma mesma linha de código."
      ]
    },
    {
      "cell_type": "code",
      "execution_count": 14,
      "metadata": {
        "id": "yTvB7dNzHzWD",
        "outputId": "709e2cfe-3c55-46f7-9f98-a52f7c496ad7",
        "colab": {
          "base_uri": "https://localhost:8080/"
        }
      },
      "outputs": [
        {
          "output_type": "execute_result",
          "data": {
            "text/plain": [
              "10.0"
            ]
          },
          "metadata": {},
          "execution_count": 14
        }
      ],
      "source": [
        "### INSIRA AQUI O CÓDIGO ###\n",
        "(15 / 3) * 2"
      ]
    },
    {
      "cell_type": "markdown",
      "metadata": {
        "id": "70RmtObIHzWH"
      },
      "source": [
        "## 4. Manipulações com Listas"
      ]
    },
    {
      "cell_type": "markdown",
      "metadata": {
        "id": "7flDDuPpHzWI"
      },
      "source": [
        "### 4.1. Criando uma lista"
      ]
    },
    {
      "cell_type": "markdown",
      "metadata": {
        "id": "9z13e5fPHzWJ"
      },
      "source": [
        "Estes são alguns exemplos típicos de listas em Python. L1 é uma lista simples; L2 é uma lista de listas de mesmo tamanho; L3 é uma lista de listas de diferentes tamanhos; e L4 é uma lista vazia."
      ]
    },
    {
      "cell_type": "code",
      "execution_count": 15,
      "metadata": {
        "id": "7rA8y4u0HzWK"
      },
      "outputs": [],
      "source": [
        "L1 = [1, 3, 7, 29]\n",
        "\n",
        "L2 = [[1,2,3], [4,5,6], [7,8,9]]\n",
        "\n",
        "L3 = [[1], [2,3], [4,5,6]]\n",
        "\n",
        "L4 = []"
      ]
    },
    {
      "cell_type": "markdown",
      "metadata": {
        "id": "ShWhftAkHzWP"
      },
      "source": [
        "### 4.2. Adicionando itens ao fim de uma lista"
      ]
    },
    {
      "cell_type": "code",
      "execution_count": 16,
      "metadata": {
        "id": "IwmjWQaDHzWQ",
        "outputId": "b3d26ae0-a17d-4916-8ce0-04dc2bf9c17a",
        "colab": {
          "base_uri": "https://localhost:8080/"
        }
      },
      "outputs": [
        {
          "output_type": "stream",
          "name": "stdout",
          "text": [
            "[5, [1, 3], [[7, 2], [9, 0]]]\n"
          ]
        }
      ],
      "source": [
        "L_teste = []\n",
        "\n",
        "L_teste.append(5)\n",
        "L_teste.append([1,3])\n",
        "L_teste.append([[7,2], [9, 0]])\n",
        "\n",
        "\n",
        "print(L_teste)"
      ]
    },
    {
      "cell_type": "markdown",
      "metadata": {
        "id": "wiSfhSGZHzWT"
      },
      "source": [
        "### 4.3. Adicionando o conteúdo de uma lista ao fim de outra"
      ]
    },
    {
      "cell_type": "code",
      "execution_count": 17,
      "metadata": {
        "id": "eK06YQhpHzWU",
        "outputId": "4fecab3f-78d6-41dd-979a-7678d0f4548d",
        "colab": {
          "base_uri": "https://localhost:8080/"
        }
      },
      "outputs": [
        {
          "output_type": "stream",
          "name": "stdout",
          "text": [
            "[3, 4, 5]\n",
            "[3, 4, 5, 9, 1, 2, 3, 4, 1]\n"
          ]
        }
      ],
      "source": [
        "L_teste_1 = []\n",
        "\n",
        "L_teste_2 = [3,4,5]\n",
        "L_teste_3 = [9,1,2,3,4,1]\n",
        "\n",
        "L_teste_1.extend(L_teste_2)\n",
        "\n",
        "print(L_teste_1)\n",
        "\n",
        "L_teste_1.extend(L_teste_3)\n",
        "\n",
        "print(L_teste_1)"
      ]
    },
    {
      "cell_type": "markdown",
      "metadata": {
        "id": "_jeT0lKyHzWW"
      },
      "source": [
        "### 4.4. Encontrando a posição do primeiro item com determinado valor na lista"
      ]
    },
    {
      "cell_type": "code",
      "execution_count": 18,
      "metadata": {
        "id": "ZAZC2Tg7HzWX",
        "outputId": "2085d27a-169a-4f72-b69f-9867a11c21b3",
        "colab": {
          "base_uri": "https://localhost:8080/"
        }
      },
      "outputs": [
        {
          "output_type": "execute_result",
          "data": {
            "text/plain": [
              "3"
            ]
          },
          "metadata": {},
          "execution_count": 18
        }
      ],
      "source": [
        "L_teste = [7, 1, 2, 5, 2, 8, 9, 0, 3]\n",
        "\n",
        "L_teste.index(5)"
      ]
    },
    {
      "cell_type": "markdown",
      "metadata": {
        "id": "GbTSR6NjHzWa"
      },
      "source": [
        "### 4.5. Ordenando os itens da lista"
      ]
    },
    {
      "cell_type": "code",
      "execution_count": 19,
      "metadata": {
        "id": "pA27WBg6HzWb",
        "outputId": "ab319f96-f7d0-4a8c-d6d9-bf1cf9a86f19",
        "colab": {
          "base_uri": "https://localhost:8080/"
        }
      },
      "outputs": [
        {
          "output_type": "stream",
          "name": "stdout",
          "text": [
            "[1, 3, 4, 6, 7, 9]\n",
            "[9, 7, 6, 4, 3, 1]\n"
          ]
        }
      ],
      "source": [
        "L_teste = [3, 1, 4, 6, 7, 9]\n",
        "\n",
        "L_teste.sort()\n",
        "\n",
        "print(L_teste)\n",
        "\n",
        "L_teste.sort(reverse=True)\n",
        "\n",
        "print(L_teste)"
      ]
    },
    {
      "cell_type": "markdown",
      "metadata": {
        "id": "rO4lre__HzWd"
      },
      "source": [
        "<font color='red'>**Exercício:**</font> crie duas novas listas de diferentes tamanhos, então adicione os elementos da segunda lista ao final da primeira lista e imprima a lista resultante e a posição de um dos números dessa lista. Por fim, ordene a lista resultante e imprima a lista e a posição do mesmo valor."
      ]
    },
    {
      "cell_type": "code",
      "execution_count": 21,
      "metadata": {
        "id": "EatgAtAHHzWe",
        "outputId": "c2e74fad-3841-4e2f-a5e8-42ab2af704b2",
        "colab": {
          "base_uri": "https://localhost:8080/"
        }
      },
      "outputs": [
        {
          "output_type": "stream",
          "name": "stdout",
          "text": [
            "[1, 2, 3, 4, 5, 6]\n",
            "4\n",
            "[1, 2, 3, 4, 5, 6]\n",
            "4\n"
          ]
        }
      ],
      "source": [
        "### INSIRA AQUI O CÓDIGO ###\n",
        "lista1 = [1,2,3]\n",
        "lista2 = [4,5,6]\n",
        "lista1.extend(lista2)\n",
        "print(lista1)\n",
        "print(lista1.index(5))\n",
        "lista1.sort()\n",
        "print(lista1)\n",
        "print(lista1.index(5))"
      ]
    },
    {
      "cell_type": "markdown",
      "metadata": {
        "id": "Cnb9ErlIHzWg"
      },
      "source": [
        "## 5. Manipulações com Arrays (vetores ou matrizes)"
      ]
    },
    {
      "cell_type": "markdown",
      "metadata": {
        "id": "kHKIOq0NHzWh"
      },
      "source": [
        "### 5.1. Criando duas matrizes de dimensões 3x3"
      ]
    },
    {
      "cell_type": "code",
      "execution_count": 22,
      "metadata": {
        "id": "ik5b0IBRHzWi"
      },
      "outputs": [],
      "source": [
        "A = np.array([ [3, 4, 5], [6, 7, 8], [9, 0, 1] ])\n",
        "B = np.array([ [0, 1, 2], [3, 4, 5], [6, 7, 8] ])"
      ]
    },
    {
      "cell_type": "markdown",
      "metadata": {
        "id": "7SNcJdhJHzWk"
      },
      "source": [
        "### 5.2. Exibindo as matrizes"
      ]
    },
    {
      "cell_type": "markdown",
      "metadata": {
        "id": "o9biPUgUHzWm"
      },
      "source": [
        "#### 5.2.1. Por completo"
      ]
    },
    {
      "cell_type": "code",
      "execution_count": 23,
      "metadata": {
        "id": "1JDuo-9MHzWm",
        "outputId": "aa0974cc-229b-4ca2-a138-7d0c088dcfb9",
        "colab": {
          "base_uri": "https://localhost:8080/"
        }
      },
      "outputs": [
        {
          "output_type": "execute_result",
          "data": {
            "text/plain": [
              "array([[3, 4, 5],\n",
              "       [6, 7, 8],\n",
              "       [9, 0, 1]])"
            ]
          },
          "metadata": {},
          "execution_count": 23
        }
      ],
      "source": [
        "A"
      ]
    },
    {
      "cell_type": "code",
      "execution_count": 24,
      "metadata": {
        "id": "wgJTEXOaHzWp",
        "outputId": "a8757d08-909b-4737-f6de-92d28227c058",
        "colab": {
          "base_uri": "https://localhost:8080/"
        }
      },
      "outputs": [
        {
          "output_type": "execute_result",
          "data": {
            "text/plain": [
              "array([[0, 1, 2],\n",
              "       [3, 4, 5],\n",
              "       [6, 7, 8]])"
            ]
          },
          "metadata": {},
          "execution_count": 24
        }
      ],
      "source": [
        "B"
      ]
    },
    {
      "cell_type": "markdown",
      "metadata": {
        "id": "9lHYwhzYHzWr"
      },
      "source": [
        "#### 5.2.2. Parcialmente"
      ]
    },
    {
      "cell_type": "code",
      "execution_count": 25,
      "metadata": {
        "id": "LIiZ_qpuHzWs",
        "outputId": "240106ea-6c2d-4407-8b7e-1f0ee71abc93",
        "colab": {
          "base_uri": "https://localhost:8080/"
        }
      },
      "outputs": [
        {
          "output_type": "execute_result",
          "data": {
            "text/plain": [
              "array([[3, 4],\n",
              "       [6, 7],\n",
              "       [9, 0]])"
            ]
          },
          "metadata": {},
          "execution_count": 25
        }
      ],
      "source": [
        "A[:, :2]"
      ]
    },
    {
      "cell_type": "code",
      "execution_count": 26,
      "metadata": {
        "id": "B-YENdqlHzWv",
        "outputId": "6bad2dcb-69c5-41e3-ab51-c65a51b35acb",
        "colab": {
          "base_uri": "https://localhost:8080/"
        }
      },
      "outputs": [
        {
          "output_type": "execute_result",
          "data": {
            "text/plain": [
              "array([4, 7])"
            ]
          },
          "metadata": {},
          "execution_count": 26
        }
      ],
      "source": [
        "B[1:, 1]"
      ]
    },
    {
      "cell_type": "markdown",
      "metadata": {
        "id": "x85tWJ_UHzWx"
      },
      "source": [
        "### 5.3. Soma de matrizes"
      ]
    },
    {
      "cell_type": "code",
      "execution_count": 27,
      "metadata": {
        "id": "LGiuzi4bHzWz",
        "outputId": "4a627439-b2be-4beb-b43a-6b779da5fea5",
        "colab": {
          "base_uri": "https://localhost:8080/"
        }
      },
      "outputs": [
        {
          "output_type": "execute_result",
          "data": {
            "text/plain": [
              "array([[ 3,  5,  7],\n",
              "       [ 9, 11, 13],\n",
              "       [15,  7,  9]])"
            ]
          },
          "metadata": {},
          "execution_count": 27
        }
      ],
      "source": [
        "A + B"
      ]
    },
    {
      "cell_type": "markdown",
      "metadata": {
        "id": "jnOBEE7HHzW2"
      },
      "source": [
        "### 5.4. Subtração de matrizes"
      ]
    },
    {
      "cell_type": "code",
      "execution_count": 28,
      "metadata": {
        "id": "avhf7Fd5HzW3",
        "outputId": "4a5cb809-e081-4c00-e7fa-8715fd9af064",
        "colab": {
          "base_uri": "https://localhost:8080/"
        }
      },
      "outputs": [
        {
          "output_type": "execute_result",
          "data": {
            "text/plain": [
              "array([[ 3,  3,  3],\n",
              "       [ 3,  3,  3],\n",
              "       [ 3, -7, -7]])"
            ]
          },
          "metadata": {},
          "execution_count": 28
        }
      ],
      "source": [
        "A - B"
      ]
    },
    {
      "cell_type": "markdown",
      "metadata": {
        "id": "U50OM0GNHzW5"
      },
      "source": [
        "### 5.5. Multiplicação de matriz por escalar"
      ]
    },
    {
      "cell_type": "code",
      "execution_count": 29,
      "metadata": {
        "id": "M0pAkyrBHzW6",
        "outputId": "7e0a1f55-9113-41ac-a80b-345f135d836c",
        "colab": {
          "base_uri": "https://localhost:8080/"
        }
      },
      "outputs": [
        {
          "output_type": "execute_result",
          "data": {
            "text/plain": [
              "array([[ 6,  8, 10],\n",
              "       [12, 14, 16],\n",
              "       [18,  0,  2]])"
            ]
          },
          "metadata": {},
          "execution_count": 29
        }
      ],
      "source": [
        "2 * A"
      ]
    },
    {
      "cell_type": "markdown",
      "metadata": {
        "id": "YvZmTHVKHzW8"
      },
      "source": [
        "### 5.6. Produto escalar"
      ]
    },
    {
      "cell_type": "code",
      "execution_count": 30,
      "metadata": {
        "id": "Ov51fiWyHzW9",
        "outputId": "95bd90cd-c942-4c81-fb75-718caaf9ba14",
        "colab": {
          "base_uri": "https://localhost:8080/"
        }
      },
      "outputs": [
        {
          "output_type": "execute_result",
          "data": {
            "text/plain": [
              "array([[ 42,  54,  66],\n",
              "       [ 69,  90, 111],\n",
              "       [  6,  16,  26]])"
            ]
          },
          "metadata": {},
          "execution_count": 30
        }
      ],
      "source": [
        "np.dot(A, B)"
      ]
    },
    {
      "cell_type": "markdown",
      "metadata": {
        "id": "SrS_CqZhHzW_"
      },
      "source": [
        "### 5.7. Produto vetorial"
      ]
    },
    {
      "cell_type": "code",
      "execution_count": 31,
      "metadata": {
        "id": "kqnaT6YEHzXA",
        "outputId": "fd1c10cb-f005-490f-a081-810873205716",
        "colab": {
          "base_uri": "https://localhost:8080/"
        }
      },
      "outputs": [
        {
          "output_type": "execute_result",
          "data": {
            "text/plain": [
              "array([[  3,  -6,   3],\n",
              "       [  3,  -6,   3],\n",
              "       [ -7, -66,  63]])"
            ]
          },
          "metadata": {},
          "execution_count": 31
        }
      ],
      "source": [
        "np.cross(A, B)"
      ]
    },
    {
      "cell_type": "markdown",
      "metadata": {
        "id": "0iUSk3luHzXC"
      },
      "source": [
        "### 5.8. Transposição"
      ]
    },
    {
      "cell_type": "markdown",
      "metadata": {
        "id": "X46Szo4YHzXD"
      },
      "source": [
        "#### 5.8.1. Utilizando a biblioteca Numpy"
      ]
    },
    {
      "cell_type": "code",
      "execution_count": 32,
      "metadata": {
        "id": "Z0oNZyuKHzXE",
        "outputId": "39dcbb23-ef26-4957-91f7-e1c939e5ea14",
        "colab": {
          "base_uri": "https://localhost:8080/"
        }
      },
      "outputs": [
        {
          "output_type": "execute_result",
          "data": {
            "text/plain": [
              "array([[3, 6, 9],\n",
              "       [4, 7, 0],\n",
              "       [5, 8, 1]])"
            ]
          },
          "metadata": {},
          "execution_count": 32
        }
      ],
      "source": [
        "np.transpose(A)"
      ]
    },
    {
      "cell_type": "markdown",
      "metadata": {
        "id": "n1mgAqjbHzXI"
      },
      "source": [
        "#### 5.8.2. Utilizando a transposição do próprio Python"
      ]
    },
    {
      "cell_type": "code",
      "execution_count": 33,
      "metadata": {
        "id": "DIDxQGR_HzXK",
        "outputId": "1f42c531-7863-42c3-d712-de4842d39a90",
        "colab": {
          "base_uri": "https://localhost:8080/"
        }
      },
      "outputs": [
        {
          "output_type": "execute_result",
          "data": {
            "text/plain": [
              "array([[3, 6, 9],\n",
              "       [4, 7, 0],\n",
              "       [5, 8, 1]])"
            ]
          },
          "metadata": {},
          "execution_count": 33
        }
      ],
      "source": [
        "A.T"
      ]
    },
    {
      "cell_type": "markdown",
      "metadata": {
        "id": "nGlgWInGHzXM"
      },
      "source": [
        "### 5.9. Inversão"
      ]
    },
    {
      "cell_type": "code",
      "execution_count": 34,
      "metadata": {
        "id": "EUyK5tJxHzXN",
        "outputId": "42b83c74-2887-4428-c347-6e1960bda366",
        "colab": {
          "base_uri": "https://localhost:8080/"
        }
      },
      "outputs": [
        {
          "output_type": "execute_result",
          "data": {
            "text/plain": [
              "array([[ -4,  -5,  -6],\n",
              "       [ -7,  -8,  -9],\n",
              "       [-10,  -1,  -2]])"
            ]
          },
          "metadata": {},
          "execution_count": 34
        }
      ],
      "source": [
        "np.invert(A)"
      ]
    },
    {
      "cell_type": "markdown",
      "metadata": {
        "id": "XM_acfitHzXP"
      },
      "source": [
        "### 5.10. Verificando as dimensões ('shape') da matriz"
      ]
    },
    {
      "cell_type": "code",
      "execution_count": 35,
      "metadata": {
        "id": "8Xx0qVJSHzXQ",
        "outputId": "e5e414b8-39ab-4e00-ed1a-9ae62b5f7a64",
        "colab": {
          "base_uri": "https://localhost:8080/"
        }
      },
      "outputs": [
        {
          "output_type": "execute_result",
          "data": {
            "text/plain": [
              "(3, 3)"
            ]
          },
          "metadata": {},
          "execution_count": 35
        }
      ],
      "source": [
        "A.shape"
      ]
    },
    {
      "cell_type": "markdown",
      "metadata": {
        "id": "j_K_O3OmHzXS"
      },
      "source": [
        "### 5.11. Adicionando novas linhas ao fim de uma matriz já existente"
      ]
    },
    {
      "cell_type": "code",
      "execution_count": 36,
      "metadata": {
        "id": "-KK1bmCdHzXT",
        "outputId": "317e5374-547f-494a-b291-de175c5cb729",
        "colab": {
          "base_uri": "https://localhost:8080/"
        }
      },
      "outputs": [
        {
          "output_type": "stream",
          "name": "stderr",
          "text": [
            "<ipython-input-36-638c36400816>:1: DeprecationWarning: `row_stack` alias is deprecated. Use `np.vstack` directly.\n",
            "  np.row_stack((A, np.array([1, 3, 7])))\n"
          ]
        },
        {
          "output_type": "execute_result",
          "data": {
            "text/plain": [
              "array([[3, 4, 5],\n",
              "       [6, 7, 8],\n",
              "       [9, 0, 1],\n",
              "       [1, 3, 7]])"
            ]
          },
          "metadata": {},
          "execution_count": 36
        }
      ],
      "source": [
        "np.row_stack((A, np.array([1, 3, 7])))"
      ]
    },
    {
      "cell_type": "markdown",
      "metadata": {
        "id": "pmAhU7ypHzXV"
      },
      "source": [
        "### 5.12. Adicionando novas colunas ao fim de uma matriz já existente"
      ]
    },
    {
      "cell_type": "code",
      "execution_count": 37,
      "metadata": {
        "id": "zVOEqSTvHzXW",
        "outputId": "df931a27-1cc4-42d5-a1d1-cab82e7d8a53",
        "colab": {
          "base_uri": "https://localhost:8080/"
        }
      },
      "outputs": [
        {
          "output_type": "execute_result",
          "data": {
            "text/plain": [
              "array([[3, 4, 5, 1],\n",
              "       [6, 7, 8, 3],\n",
              "       [9, 0, 1, 7]])"
            ]
          },
          "metadata": {},
          "execution_count": 37
        }
      ],
      "source": [
        "np.column_stack((A, np.array([1, 3, 7])))"
      ]
    },
    {
      "cell_type": "markdown",
      "metadata": {
        "id": "_nyvbOfYHzXa"
      },
      "source": [
        "<font color='red'>**Exercício:**</font> crie dois arrays 3x2, então calcule o produto escalar de um deles pela transposta do outro e imprima a primeira linha do array resultante."
      ]
    },
    {
      "cell_type": "code",
      "execution_count": 38,
      "metadata": {
        "id": "plW-vwYYHzXb",
        "outputId": "f3907af2-8590-426b-e237-e3ace35590ea",
        "colab": {
          "base_uri": "https://localhost:8080/"
        }
      },
      "outputs": [
        {
          "output_type": "stream",
          "name": "stdout",
          "text": [
            "[23 29 35]\n"
          ]
        }
      ],
      "source": [
        "### INSIRA AQUI O CÓDIGO ###\n",
        "array_1 = np.array([[1,2], [3,4], [5,6]])\n",
        "array_2 = np.array([[7,8], [9,10], [11,12]])\n",
        "array_3 = np.dot(array_1, array_2.T)\n",
        "print(array_3[0])"
      ]
    },
    {
      "cell_type": "markdown",
      "metadata": {
        "id": "k12wgIcTHzXd"
      },
      "source": [
        "## 6. Gerando um sinal e plotando gráficos"
      ]
    },
    {
      "cell_type": "markdown",
      "metadata": {
        "id": "gamv_5eTHzXe"
      },
      "source": [
        "### 6.1. Gerando um vetor de 50 posições, igualmente \"espaçadas\", com valores de 0 a 6$\\pi$"
      ]
    },
    {
      "cell_type": "code",
      "execution_count": 39,
      "metadata": {
        "id": "WC0ThNzgHzXf"
      },
      "outputs": [],
      "source": [
        "x = np.linspace(0, 6 * np.pi, 50)"
      ]
    },
    {
      "cell_type": "markdown",
      "metadata": {
        "id": "06t5UU9sHzXh"
      },
      "source": [
        "### 6.2. Gerando um sinal senoidal a partir das posições do vetor anteriormente criado"
      ]
    },
    {
      "cell_type": "code",
      "execution_count": 40,
      "metadata": {
        "id": "WzSzja0wHzXh"
      },
      "outputs": [],
      "source": [
        "y = np.sin(x)"
      ]
    },
    {
      "cell_type": "markdown",
      "metadata": {
        "id": "G7WAfgnPHzXj"
      },
      "source": [
        "### 6.3. Plotando o sinal"
      ]
    },
    {
      "cell_type": "code",
      "execution_count": 41,
      "metadata": {
        "id": "MQXn12lhHzXk",
        "outputId": "3f4a2f7d-0d72-4791-ff6c-3af32c9518a4",
        "colab": {
          "base_uri": "https://localhost:8080/",
          "height": 489
        }
      },
      "outputs": [
        {
          "output_type": "execute_result",
          "data": {
            "text/plain": [
              "Text(0, 0.5, 'Valor')"
            ]
          },
          "metadata": {},
          "execution_count": 41
        },
        {
          "output_type": "display_data",
          "data": {
            "text/plain": [
              "<Figure size 640x480 with 1 Axes>"
            ],
            "image/png": "[encoded data removed]"
          },
          "metadata": {}
        }
      ],
      "source": [
        "plt.plot(x, y, label='cos(t)')\n",
        "plt.legend()\n",
        "plt.title('Sinal Senoidal')\n",
        "plt.xlabel('Tempo')\n",
        "plt.ylabel('Valor')"
      ]
    },
    {
      "cell_type": "markdown",
      "metadata": {
        "id": "v5tclUnsHzXm"
      },
      "source": [
        "### 6.4 Plotando o gráfico de dispersão ('Scatter')"
      ]
    },
    {
      "cell_type": "code",
      "execution_count": 42,
      "metadata": {
        "id": "GRHA6qzNHzXn",
        "outputId": "a055bfad-971c-4ea4-f74f-7805bf91b167",
        "colab": {
          "base_uri": "https://localhost:8080/",
          "height": 489
        }
      },
      "outputs": [
        {
          "output_type": "execute_result",
          "data": {
            "text/plain": [
              "Text(0, 0.5, 'Valor')"
            ]
          },
          "metadata": {},
          "execution_count": 42
        },
        {
          "output_type": "display_data",
          "data": {
            "text/plain": [
              "<Figure size 640x480 with 1 Axes>"
            ],
            "image/png": "[encoded data removed]"
          },
          "metadata": {}
        }
      ],
      "source": [
        "plt.scatter(x, y, label='cos(t)')\n",
        "plt.legend()\n",
        "plt.title('Sinal Senoidal')\n",
        "plt.xlabel('Tempo')\n",
        "plt.ylabel('Valor')"
      ]
    },
    {
      "cell_type": "markdown",
      "metadata": {
        "id": "o0ZBjTnjHzXp"
      },
      "source": [
        "### 6.5. Plotando gráficos de hastes ou ramos ('Stem')"
      ]
    },
    {
      "cell_type": "code",
      "execution_count": 43,
      "metadata": {
        "id": "s2Nh97o-HzXq",
        "outputId": "5d101f18-7427-477a-9f36-e195cae6ace7",
        "colab": {
          "base_uri": "https://localhost:8080/",
          "height": 489
        }
      },
      "outputs": [
        {
          "output_type": "execute_result",
          "data": {
            "text/plain": [
              "Text(0, 0.5, 'Valor')"
            ]
          },
          "metadata": {},
          "execution_count": 43
        },
        {
          "output_type": "display_data",
          "data": {
            "text/plain": [
              "<Figure size 640x480 with 1 Axes>"
            ],
            "image/png": "[encoded data removed]"
          },
          "metadata": {}
        }
      ],
      "source": [
        "markerline, stemlines, baseline = plt.stem(x, y, label='cos(t)')\n",
        "plt.setp(markerline, color='r')\n",
        "plt.setp(stemlines, color='g', linewidth=3)\n",
        "plt.setp(baseline, color='b', linewidth=2)\n",
        "plt.legend()\n",
        "plt.title('Sinal Senoidal')\n",
        "plt.xlabel('Tempo')\n",
        "plt.ylabel('Valor')"
      ]
    },
    {
      "cell_type": "markdown",
      "metadata": {
        "id": "LqrOTONXHzXv"
      },
      "source": [
        "### 6.6. Plotando múltiplos gráficos em uma única figura"
      ]
    },
    {
      "cell_type": "code",
      "execution_count": 44,
      "metadata": {
        "id": "a-tj_nP9HzXw",
        "outputId": "8f3ad634-0368-4193-d8ae-5fe90b61fa81",
        "colab": {
          "base_uri": "https://localhost:8080/",
          "height": 489
        }
      },
      "outputs": [
        {
          "output_type": "execute_result",
          "data": {
            "text/plain": [
              "Text(0, 0.5, 'Valor')"
            ]
          },
          "metadata": {},
          "execution_count": 44
        },
        {
          "output_type": "display_data",
          "data": {
            "text/plain": [
              "<Figure size 640x480 with 1 Axes>"
            ],
            "image/png": "[encoded data removed]"
          },
          "metadata": {}
        }
      ],
      "source": [
        "plt.plot(x, y, label='cos(t)')\n",
        "plt.plot(x, 2 * y, label='2 * cos(t)')\n",
        "plt.legend()\n",
        "plt.title('Sinais Senoidais')\n",
        "plt.xlabel('Tempo')\n",
        "plt.ylabel('Valor')"
      ]
    },
    {
      "cell_type": "markdown",
      "metadata": {
        "id": "q6lMbefuHzX0"
      },
      "source": [
        "<font color='red'>**Exercício:**</font> gere três sinais diferentes, então faça o plot, o gráfico de dispersão e o diagrama de hastes; apenas um tipo para cada sinal."
      ]
    },
    {
      "cell_type": "code",
      "execution_count": 48,
      "metadata": {
        "id": "Vp8kMOKlHzX0",
        "outputId": "8678df8c-f3ce-48c4-a39f-1bd3da7f0772",
        "colab": {
          "base_uri": "https://localhost:8080/",
          "height": 447
        }
      },
      "outputs": [
        {
          "output_type": "execute_result",
          "data": {
            "text/plain": [
              "<matplotlib.legend.Legend at 0x7d0b3e9e8ed0>"
            ]
          },
          "metadata": {},
          "execution_count": 48
        },
        {
          "output_type": "display_data",
          "data": {
            "text/plain": [
              "<Figure size 640x480 with 1 Axes>"
            ],
            "image/png": "[encoded data removed]"
          },
          "metadata": {}
        }
      ],
      "source": [
        "### INSIRA AQUI O CÓDIGO ###\n",
        "sinal_1 = np.sin(x)\n",
        "sinal_2 = np.cos(x)\n",
        "sinal_3 = np.tan(x)\n",
        "plt.plot(x, sinal_1, label='sin(t)')\n",
        "plt.scatter(x, sinal_2, label='cos(t)')\n",
        "markerline, stemlines, baseline = plt.stem(x, sinal_3, label='tan(t)')\n",
        "plt.setp(markerline, color='r')\n",
        "plt.setp(stemlines, color='g', linewidth=3)\n",
        "plt.setp(baseline, color='b', linewidth=2)\n",
        "plt.legend()"
      ]
    },
    {
      "cell_type": "markdown",
      "metadata": {
        "id": "ougyaxCDHzX3"
      },
      "source": [
        "## 7. Condicionais (if, elif e else)"
      ]
    },
    {
      "cell_type": "code",
      "execution_count": 49,
      "metadata": {
        "id": "yCySsrYXHzX3",
        "outputId": "1a0f9c6b-8314-4b53-ed1c-8c6dc37cb112",
        "colab": {
          "base_uri": "https://localhost:8080/"
        }
      },
      "outputs": [
        {
          "output_type": "stream",
          "name": "stdout",
          "text": [
            "High\n"
          ]
        }
      ],
      "source": [
        "n = 5\n",
        "\n",
        "if n < 4:\n",
        "    print('Low')\n",
        "elif n == 4:\n",
        "    print('Mid')\n",
        "else:\n",
        "    print('High')"
      ]
    },
    {
      "cell_type": "markdown",
      "metadata": {
        "id": "G7GJmWizHzX6"
      },
      "source": [
        "## 8. Laços de repetição"
      ]
    },
    {
      "cell_type": "markdown",
      "metadata": {
        "id": "KFWGAheQHzX7"
      },
      "source": [
        "### 8.1. For"
      ]
    },
    {
      "cell_type": "code",
      "execution_count": 50,
      "metadata": {
        "id": "k0NEjai6HzX9",
        "outputId": "9457a765-202a-4961-ce07-e98f66311ce1",
        "colab": {
          "base_uri": "https://localhost:8080/"
        }
      },
      "outputs": [
        {
          "output_type": "stream",
          "name": "stdout",
          "text": [
            "0\n",
            "1\n",
            "2\n",
            "3\n",
            "4\n",
            "5\n",
            "6\n",
            "7\n",
            "8\n",
            "9\n"
          ]
        }
      ],
      "source": [
        "for x in range(10):\n",
        "    print(x)"
      ]
    },
    {
      "cell_type": "code",
      "execution_count": 51,
      "metadata": {
        "id": "TQdx7r_oHzX_",
        "outputId": "21f6e5f6-cb72-46c4-aa7d-dbab2368476f",
        "colab": {
          "base_uri": "https://localhost:8080/"
        }
      },
      "outputs": [
        {
          "output_type": "stream",
          "name": "stdout",
          "text": [
            "1\n",
            "3\n",
            "7\n",
            "11\n",
            "19\n"
          ]
        }
      ],
      "source": [
        "K = [1, 3, 7, 11, 19]\n",
        "\n",
        "for x in K:\n",
        "    print(x)"
      ]
    },
    {
      "cell_type": "code",
      "execution_count": 52,
      "metadata": {
        "id": "aOij-CZ_HzYA",
        "outputId": "01c0dd1b-3d05-48b3-861f-6133c4339223",
        "colab": {
          "base_uri": "https://localhost:8080/"
        }
      },
      "outputs": [
        {
          "output_type": "stream",
          "name": "stdout",
          "text": [
            "[1, 3, 2, 5]\n",
            "[4, 8, 7, 12]\n"
          ]
        }
      ],
      "source": [
        "KK = [[1,3,2,5], [4,8,7,12]]\n",
        "\n",
        "for x in KK:\n",
        "    print(x)"
      ]
    },
    {
      "cell_type": "markdown",
      "metadata": {
        "id": "4FlPn6LeHzYC"
      },
      "source": [
        "### 8.2. While"
      ]
    },
    {
      "cell_type": "code",
      "execution_count": 53,
      "metadata": {
        "id": "EcOjiw6KHzYD",
        "outputId": "afa0187d-eac0-428c-f01b-79f7b4462c01",
        "colab": {
          "base_uri": "https://localhost:8080/"
        }
      },
      "outputs": [
        {
          "output_type": "stream",
          "name": "stdout",
          "text": [
            "0\n",
            "1\n",
            "2\n",
            "3\n",
            "4\n"
          ]
        }
      ],
      "source": [
        "i = 0\n",
        "\n",
        "while i < 5:\n",
        "    print(i)\n",
        "    i += 1"
      ]
    },
    {
      "cell_type": "markdown",
      "metadata": {
        "id": "VK4G97_THzYF"
      },
      "source": [
        "## 9. Definindo funções"
      ]
    },
    {
      "cell_type": "markdown",
      "metadata": {
        "id": "WnX_T-MaHzYF"
      },
      "source": [
        "### 9.1. Simples"
      ]
    },
    {
      "cell_type": "markdown",
      "metadata": {
        "id": "9L8x9lXJHzYG"
      },
      "source": [
        "Esta é a definição de um exemplo bastante simples, que apenas retorna o resultado da soma dos dois números de entrada."
      ]
    },
    {
      "cell_type": "code",
      "execution_count": 54,
      "metadata": {
        "id": "ZPl4OR8SHzYH"
      },
      "outputs": [],
      "source": [
        "def soma(a, b):\n",
        "    return a + b"
      ]
    },
    {
      "cell_type": "markdown",
      "metadata": {
        "id": "p3cScCXgHzYK"
      },
      "source": [
        "Agora, que a função já está definida, ela está pronta para ser usada neste Notebook, independentemente da célula em que seja invocada."
      ]
    },
    {
      "cell_type": "code",
      "execution_count": 55,
      "metadata": {
        "id": "aDoug5qtHzYL",
        "outputId": "670ab589-0f43-44fb-e4ff-2fa8f458349b",
        "colab": {
          "base_uri": "https://localhost:8080/"
        }
      },
      "outputs": [
        {
          "output_type": "execute_result",
          "data": {
            "text/plain": [
              "15"
            ]
          },
          "metadata": {},
          "execution_count": 55
        }
      ],
      "source": [
        "soma(7, 8)"
      ]
    },
    {
      "cell_type": "markdown",
      "metadata": {
        "id": "XeUiPOF9HzYN"
      },
      "source": [
        "### 9.2. Com valores padrão"
      ]
    },
    {
      "cell_type": "markdown",
      "metadata": {
        "id": "qRDe8rIUHzYP"
      },
      "source": [
        "Funções em Python podem ter variáveis de entrada com valores padrão, o que faz com que o usuário não precise entrar com o valor correspondente à variável de entrada em questão, desde que se deseje utilizar o valor padrão."
      ]
    },
    {
      "cell_type": "code",
      "execution_count": 56,
      "metadata": {
        "id": "r2RjFrSEHzYQ"
      },
      "outputs": [],
      "source": [
        "def soma_padrao(a, b=3):\n",
        "    return a + b"
      ]
    },
    {
      "cell_type": "markdown",
      "metadata": {
        "id": "XJRall-DHzYS"
      },
      "source": [
        "Pela função soma_padrao(), se forem utilizados os dois argumentos de entrada, o seu funcionamento é o mesmo da função soma(), porém, ao se utilizar um único argumento de entrada, a função passa a considerar o valor padrão para a segunda entrada (não fornecida pelo usuário)."
      ]
    },
    {
      "cell_type": "code",
      "execution_count": 57,
      "metadata": {
        "id": "lUeypMQfHzYT",
        "outputId": "144c315f-31fe-4e18-b21a-2aaf027ea030",
        "colab": {
          "base_uri": "https://localhost:8080/"
        }
      },
      "outputs": [
        {
          "output_type": "execute_result",
          "data": {
            "text/plain": [
              "15"
            ]
          },
          "metadata": {},
          "execution_count": 57
        }
      ],
      "source": [
        "soma_padrao(7, 8)"
      ]
    },
    {
      "cell_type": "code",
      "execution_count": 58,
      "metadata": {
        "id": "D0irrgqpHzYV",
        "outputId": "5765f0a2-760a-4d84-dd6c-61368c4e2d65",
        "colab": {
          "base_uri": "https://localhost:8080/"
        }
      },
      "outputs": [
        {
          "output_type": "execute_result",
          "data": {
            "text/plain": [
              "10"
            ]
          },
          "metadata": {},
          "execution_count": 58
        }
      ],
      "source": [
        "soma_padrao(7)"
      ]
    },
    {
      "cell_type": "markdown",
      "metadata": {
        "id": "tthWnrUXHzYa"
      },
      "source": [
        "<font color='red'>**Exercício:**</font> crie uma função que utilize ao menos um condicional e ao menos um laço de repetição, além de ter pelo menos uma variável de entrada com valor padrão. Então, em outra célula, utilize a função criada para mostrar que funciona adequadamente."
      ]
    },
    {
      "cell_type": "code",
      "execution_count": 59,
      "metadata": {
        "id": "hbxFy1x0HzYb"
      },
      "outputs": [],
      "source": [
        "### INSIRA AQUI O CÓDIGO DA FUNÇÃO ###\n",
        "def funcao(x):\n",
        "  if x > 10:\n",
        "    for i in range(x):\n",
        "      print(i)\n",
        "  else:\n",
        "    print(x)"
      ]
    },
    {
      "cell_type": "code",
      "execution_count": 60,
      "metadata": {
        "id": "JhqjDQaYHzYd",
        "outputId": "faad68cb-50eb-48f5-f5f5-6832ddbe86b9",
        "colab": {
          "base_uri": "https://localhost:8080/"
        }
      },
      "outputs": [
        {
          "output_type": "stream",
          "name": "stdout",
          "text": [
            "0\n",
            "1\n",
            "2\n",
            "3\n",
            "4\n",
            "5\n",
            "6\n",
            "7\n",
            "8\n",
            "9\n",
            "10\n"
          ]
        }
      ],
      "source": [
        "### INSIRA AQUI O CÓDIGO DE TESTE ###\n",
        "funcao(11)"
      ]
    },
    {
      "cell_type": "markdown",
      "metadata": {
        "id": "5Sx_6VOnHzYg"
      },
      "source": [
        "## 10. Ajuda"
      ]
    },
    {
      "cell_type": "markdown",
      "metadata": {
        "id": "xaMc7DL4HzYh"
      },
      "source": [
        "#### Procurem consultar as documentações correspondentes para entender como funcionam as funções.\n",
        "\n",
        "* [Python](https://docs.python.org/3.6/)\n",
        "* [Numpy](https://docs.scipy.org/doc/numpy/reference/)\n",
        "* [Scipy](https://docs.scipy.org/doc/scipy/reference/)\n",
        "* [Scikit-Learn](http://scikit-learn.org/stable/documentation.html)"
      ]
    },
    {
      "cell_type": "markdown",
      "metadata": {
        "id": "f3D6dv-UHzYi"
      },
      "source": [
        "Utilizando a própria linguagem Python também é possível obter ajuda quando se quer saber como funciona uma dada função. Para isso, basta utilizar a função $help()$ com o nome da função que deseja pesquisar. Por exemplo, caso se deseje saber mais sobre a função $linspace()$ da biblioteca Numpy, pode-se pesquisar assim:"
      ]
    },
    {
      "cell_type": "code",
      "execution_count": 61,
      "metadata": {
        "id": "lmmnusB9HzYj",
        "outputId": "95a35bec-969c-42fb-dc63-995eca7dc4b4",
        "colab": {
          "base_uri": "https://localhost:8080/"
        }
      },
      "outputs": [
        {
          "output_type": "stream",
          "name": "stdout",
          "text": [
            "Help on _ArrayFunctionDispatcher in module numpy:\n",
            "\n",
            "linspace(start, stop, num=50, endpoint=True, retstep=False, dtype=None, axis=0, *, device=None)\n",
            "    Return evenly spaced numbers over a specified interval.\n",
            "    \n",
            "    Returns `num` evenly spaced samples, calculated over the\n",
            "    interval [`start`, `stop`].\n",
            "    \n",
            "    The endpoint of the interval can optionally be excluded.\n",
            "    \n",
            "    .. versionchanged:: 1.16.0\n",
            "        Non-scalar `start` and `stop` are now supported.\n",
            "    \n",
            "    .. versionchanged:: 1.20.0\n",
            "        Values are rounded towards ``-inf`` instead of ``0`` when an\n",
            "        integer ``dtype`` is specified. The old behavior can\n",
            "        still be obtained with ``np.linspace(start, stop, num).astype(int)``\n",
            "    \n",
            "    Parameters\n",
            "    ----------\n",
            "    start : array_like\n",
            "        The starting value of the sequence.\n",
            "    stop : array_like\n",
            "        The end value of the sequence, unless `endpoint` is set to False.\n",
            "        In that case, the sequence consists of all but the last of ``num + 1``\n",
            "        evenly spaced samples, so that `stop` is excluded.  Note that the step\n",
            "        size changes when `endpoint` is False.\n",
            "    num : int, optional\n",
            "        Number of samples to generate. Default is 50. Must be non-negative.\n",
            "    endpoint : bool, optional\n",
            "        If True, `stop` is the last sample. Otherwise, it is not included.\n",
            "        Default is True.\n",
            "    retstep : bool, optional\n",
            "        If True, return (`samples`, `step`), where `step` is the spacing\n",
            "        between samples.\n",
            "    dtype : dtype, optional\n",
            "        The type of the output array.  If `dtype` is not given, the data type\n",
            "        is inferred from `start` and `stop`. The inferred dtype will never be\n",
            "        an integer; `float` is chosen even if the arguments would produce an\n",
            "        array of integers.\n",
            "    \n",
            "        .. versionadded:: 1.9.0\n",
            "    axis : int, optional\n",
            "        The axis in the result to store the samples.  Relevant only if start\n",
            "        or stop are array-like.  By default (0), the samples will be along a\n",
            "        new axis inserted at the beginning. Use -1 to get an axis at the end.\n",
            "    \n",
            "        .. versionadded:: 1.16.0\n",
            "    device : str, optional\n",
            "        The device on which to place the created array. Default: None.\n",
            "        For Array-API interoperability only, so must be ``\"cpu\"`` if passed.\n",
            "    \n",
            "        .. versionadded:: 2.0.0\n",
            "    \n",
            "    Returns\n",
            "    -------\n",
            "    samples : ndarray\n",
            "        There are `num` equally spaced samples in the closed interval\n",
            "        ``[start, stop]`` or the half-open interval ``[start, stop)``\n",
            "        (depending on whether `endpoint` is True or False).\n",
            "    step : float, optional\n",
            "        Only returned if `retstep` is True\n",
            "    \n",
            "        Size of spacing between samples.\n",
            "    \n",
            "    \n",
            "    See Also\n",
            "    --------\n",
            "    arange : Similar to `linspace`, but uses a step size (instead of the\n",
            "             number of samples).\n",
            "    geomspace : Similar to `linspace`, but with numbers spaced evenly on a log\n",
            "                scale (a geometric progression).\n",
            "    logspace : Similar to `geomspace`, but with the end points specified as\n",
            "               logarithms.\n",
            "    :ref:`how-to-partition`\n",
            "    \n",
            "    Examples\n",
            "    --------\n",
            "    >>> np.linspace(2.0, 3.0, num=5)\n",
            "    array([2.  , 2.25, 2.5 , 2.75, 3.  ])\n",
            "    >>> np.linspace(2.0, 3.0, num=5, endpoint=False)\n",
            "    array([2. ,  2.2,  2.4,  2.6,  2.8])\n",
            "    >>> np.linspace(2.0, 3.0, num=5, retstep=True)\n",
            "    (array([2.  ,  2.25,  2.5 ,  2.75,  3.  ]), 0.25)\n",
            "    \n",
            "    Graphical illustration:\n",
            "    \n",
            "    >>> import matplotlib.pyplot as plt\n",
            "    >>> N = 8\n",
            "    >>> y = np.zeros(N)\n",
            "    >>> x1 = np.linspace(0, 10, N, endpoint=True)\n",
            "    >>> x2 = np.linspace(0, 10, N, endpoint=False)\n",
            "    >>> plt.plot(x1, y, 'o')\n",
            "    [<matplotlib.lines.Line2D object at 0x...>]\n",
            "    >>> plt.plot(x2, y + 0.5, 'o')\n",
            "    [<matplotlib.lines.Line2D object at 0x...>]\n",
            "    >>> plt.ylim([-0.5, 1])\n",
            "    (-0.5, 1)\n",
            "    >>> plt.show()\n",
            "\n"
          ]
        }
      ],
      "source": [
        "help(np.linspace)"
      ]
    },
    {
      "cell_type": "markdown",
      "metadata": {
        "id": "jASnI-haHzYm"
      },
      "source": [
        "#### Outras fontes também podem ser consultadas."
      ]
    },
    {
      "cell_type": "markdown",
      "metadata": {
        "id": "WKck7GipHzYm"
      },
      "source": [
        "* [StackOverflow](https://stackoverflow.com/)\n",
        "* [Quora](https://www.quora.com/)"
      ]
    },
    {
      "cell_type": "code",
      "execution_count": null,
      "metadata": {
        "id": "2huHnscLHzYn"
      },
      "outputs": [],
      "source": []
    }
  ],
  "metadata": {
    "colab": {
      "provenance": [],
      "include_colab_link": true
    },
    "kernelspec": {
      "display_name": "Python 3",
      "language": "python",
      "name": "python3"
    },
    "language_info": {
      "codemirror_mode": {
        "name": "ipython",
        "version": 3
      },
      "file_extension": ".py",
      "mimetype": "text/x-python",
      "name": "python",
      "nbconvert_exporter": "python",
      "pygments_lexer": "ipython3",
      "version": "3.7.9"
    }
  },
  "nbformat": 4,
  "nbformat_minor": 0
}